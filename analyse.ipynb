{
 "cells": [
  {
   "cell_type": "markdown",
   "metadata": {},
   "source": [
    "## Analyse the performance curve"
   ]
  },
  {
   "cell_type": "code",
   "execution_count": 54,
   "metadata": {},
   "outputs": [],
   "source": [
    "import matplotlib.pyplot as plt\n",
    "import numpy as np\n",
    "import ipdb\n",
    "import re\n",
    "import seaborn as sns\n",
    "import pandas as pd\n",
    "from pprint import pprint\n",
    "%matplotlib inline"
   ]
  },
  {
   "cell_type": "code",
   "execution_count": null,
   "metadata": {},
   "outputs": [],
   "source": [
    "models = ['HRED', 'MReCoSa', 'MTGCN', 'GatedGCN']    # Add GATRNN\n",
    "dataset_name = 'dailydialog'\n",
    "paths = [f'./processed/{dataset_name}/{i}/conclusion.txt' for i in models]\n",
    "size = 30"
   ]
  },
  {
   "cell_type": "code",
   "execution_count": null,
   "metadata": {},
   "outputs": [],
   "source": [
    "def read_file(path, size=30):\n",
    "    with open(path) as f:\n",
    "        bleu1, bleu2, bleu3, bleu4, rouge, dist1, dist2 = [], [], [], [], [], [], []\n",
    "        EA, VX, GM = [], [], []\n",
    "        for line in f.readlines():\n",
    "            line = line.strip()\n",
    "            if 'BLEU-1' in line:\n",
    "                bleu1.append(float(line.replace('BLEU-1: ', '')))\n",
    "            elif 'BLEU-2' in line:\n",
    "                bleu2.append(float(line.replace('BLEU-2: ', '')))\n",
    "            elif 'BLEU-3' in line:\n",
    "                bleu3.append(float(line.replace('BLEU-3: ', '')))\n",
    "            elif 'BLEU-4' in line:\n",
    "                bleu4.append(float(line.replace('BLEU-4: ', '')))\n",
    "            elif 'ROUGE' in line:\n",
    "                rouge.append(float(line.replace('ROUGE: ', '')))\n",
    "            elif 'Distinct' in line:\n",
    "                distinct1, distinct2 = line.split(';')\n",
    "                dist1.append(float(distinct1.replace('Distinct-1: ', '').strip()))\n",
    "                dist2.append(float(distinct2.replace('Distinct-2: ', '').strip()))\n",
    "            elif 'EA' in line:\n",
    "                EA.append(float(line.replace('EA: ', '')))\n",
    "            elif 'VX' in line:\n",
    "                VX.append(float(line.replace('VX: ', '')))\n",
    "            # elif 'GM' in line:\n",
    "            #     GM.append(float(line.replace('GM: ', '')))\n",
    "    assert len(bleu1) == size, f'{len(bleu1)} -- {size}'\n",
    "    assert len(bleu2) == size, f'{len(bleu2)} -- {size}'\n",
    "    assert len(bleu3) == size, f'{len(bleu3)} -- {size}'\n",
    "    assert len(bleu4) == size, f'{len(bleu4)} -- {size}'\n",
    "    assert len(rouge) == size, f'{len(rouge)} -- {size}'\n",
    "    assert len(dist1) == size, f'{len(dist1)} -- {size}'\n",
    "    assert len(dist2) == size, f'{len(dist2)} -- {size}'\n",
    "    assert len(EA) == size, f'{len(EA)} -- {size}'\n",
    "    assert len(VX) == size, f'{len(VX)} -- {size}'\n",
    "    # assert len(GM) == size, f'{len(GM)} -- {size}'\n",
    "    return (bleu1, bleu2, bleu3, bleu4, rouge, dist1, dist2, EA, VX)"
   ]
  },
  {
   "cell_type": "code",
   "execution_count": null,
   "metadata": {},
   "outputs": [],
   "source": [
    "def draw_curve(ax1, ax2, ax3, ax4, ax5, ax6, ax7, ax8, ax9,\n",
    "               bleu1, bleu2, bleu3, bleu4, rouge, dist1, dist2, ea, vx, m):\n",
    "    x = np.arange(1, size + 1)\n",
    "    \n",
    "    ax1.plot(x, bleu1, label=m)\n",
    "    ax1.legend()\n",
    "    ax1.set_title('BLEU-1')\n",
    "    \n",
    "    ax2.plot(x, bleu2, label=m)\n",
    "    ax2.legend()\n",
    "    ax2.set_title('BLEU-2')\n",
    "    \n",
    "    ax3.plot(x, bleu3, label=m)\n",
    "    ax3.legend()\n",
    "    ax3.set_title('BLEU-3')\n",
    "    \n",
    "    ax4.plot(x, bleu4, label=m)\n",
    "    ax4.legend()\n",
    "    ax4.set_title('BLEU-4')\n",
    "    \n",
    "    ax5.plot(x, rouge, label=m)\n",
    "    ax5.legend()\n",
    "    ax5.set_title('ROUGE')\n",
    "    \n",
    "    ax6.plot(x, dist1, label=m)\n",
    "    ax6.legend()\n",
    "    ax6.set_title('Distinct-1')\n",
    "    \n",
    "    ax7.plot(x, dist2, label=m)\n",
    "    ax7.legend()\n",
    "    ax7.set_title('Distinct-2')\n",
    "    \n",
    "    ax8.plot(x, ea, label=m)\n",
    "    ax8.legend()\n",
    "    ax8.set_title('Embedding Average')\n",
    "    \n",
    "    ax9.plot(x, vx, label=m)\n",
    "    ax9.legend()\n",
    "    ax9.set_title('Vector Extrema')"
   ]
  },
  {
   "cell_type": "code",
   "execution_count": null,
   "metadata": {},
   "outputs": [],
   "source": [
    "def meta_data(bar, data):\n",
    "    try:\n",
    "        print(f'{bar}: Max data {np.max(data)}, epoch: {1 + np.argmax(data)}')\n",
    "    except:\n",
    "        return "
   ]
  },
  {
   "cell_type": "code",
   "execution_count": null,
   "metadata": {},
   "outputs": [],
   "source": [
    "dataset = []\n",
    "for m, path in zip(models, paths):\n",
    "    print(f'========== {m} : {path} ==========')\n",
    "    data = read_file(path, size=size)\n",
    "    if data:\n",
    "        dataset.append(data)\n",
    "        meta_data('BLEU-1', data[0])\n",
    "        meta_data('BLEU-2', data[1])\n",
    "        meta_data('BLEU-3', data[2])\n",
    "        meta_data('BLEU-4', data[3])\n",
    "        meta_data('ROUGE',  data[4])\n",
    "        meta_data('Dist-1', data[5])\n",
    "        meta_data('Dist-2', data[6])\n",
    "        meta_data('Embedding Average', data[7])\n",
    "        meta_data('Vector Extrema', data[8])\n",
    "        # meta_data('Greedy Matching', data[9])"
   ]
  },
  {
   "cell_type": "code",
   "execution_count": null,
   "metadata": {},
   "outputs": [],
   "source": [
    "plt.figure(figsize=(10, 20))\n",
    "sub = [plt.subplot(5, 2, 1), plt.subplot(5, 2, 2), plt.subplot(5, 2, 3),\n",
    "       plt.subplot(5, 2, 4), plt.subplot(5, 2, 5), plt.subplot(5, 2, 6), \n",
    "       plt.subplot(5, 2, 7), plt.subplot(5, 2, 8), plt.subplot(5, 2, 9),]\n",
    "\n",
    "for d, m in zip(dataset, models):\n",
    "    draw_curve(*sub, *d, m)\n",
    "    \n",
    "plt.savefig(f'./img/{dataset_name}.png')"
   ]
  },
  {
   "cell_type": "markdown",
   "metadata": {},
   "source": [
    "## Show the PPL Perturbation"
   ]
  },
  {
   "cell_type": "code",
   "execution_count": 75,
   "metadata": {},
   "outputs": [],
   "source": [
    "models = ['HRED', 'DSHRED', 'WSeq', 'MReCoSa', 'VHRED', \n",
    "          'HRAN', 'DSHRED_RA', 'WSeq_RA', 'MReCoSa_RA',\n",
    "          'Seq2Seq', 'Seq2Seq_MHA']    # Add GATRNN\n",
    "dataset_name = 'empchat'\n",
    "paths = [f'./processed/{dataset_name}/{i}/pertub-ppl.txt' for i in models]\n",
    "\n",
    "model = 'HRED'\n",
    "path = paths[models.index(model)]"
   ]
  },
  {
   "cell_type": "code",
   "execution_count": 76,
   "metadata": {},
   "outputs": [],
   "source": [
    "def read_ppl(path):\n",
    "    real = re.compile(r'.*loss: (\\w+\\.\\w+), PPL: (\\w+\\.\\w+).*')\n",
    "    with open(path) as f:\n",
    "        loss, ppl = [], []\n",
    "        for line in f.readlines():\n",
    "            line = line.strip()\n",
    "            loss_, ppl_ = real.findall(line)[0]\n",
    "            loss_, ppl_ = float(loss_), float(ppl_)\n",
    "            loss.append(loss_)\n",
    "            ppl.append(ppl_)\n",
    "    return loss, ppl"
   ]
  },
  {
   "cell_type": "code",
   "execution_count": 77,
   "metadata": {},
   "outputs": [
    {
     "data": {
      "text/html": [
       "<div>\n",
       "<style scoped>\n",
       "    .dataframe tbody tr th:only-of-type {\n",
       "        vertical-align: middle;\n",
       "    }\n",
       "\n",
       "    .dataframe tbody tr th {\n",
       "        vertical-align: top;\n",
       "    }\n",
       "\n",
       "    .dataframe thead th {\n",
       "        text-align: right;\n",
       "    }\n",
       "</style>\n",
       "<table border=\"1\" class=\"dataframe\">\n",
       "  <thead>\n",
       "    <tr style=\"text-align: right;\">\n",
       "      <th></th>\n",
       "      <th>Origin</th>\n",
       "      <th>1</th>\n",
       "      <th>2</th>\n",
       "      <th>3</th>\n",
       "      <th>4</th>\n",
       "      <th>5</th>\n",
       "      <th>6</th>\n",
       "      <th>7</th>\n",
       "      <th>8</th>\n",
       "      <th>9</th>\n",
       "      <th>10</th>\n",
       "    </tr>\n",
       "  </thead>\n",
       "  <tbody>\n",
       "    <tr>\n",
       "      <th>HRED</th>\n",
       "      <td>46.8289</td>\n",
       "      <td>66.1616</td>\n",
       "      <td>68.5251</td>\n",
       "      <td>55.5454</td>\n",
       "      <td>118.7476</td>\n",
       "      <td>57.5757</td>\n",
       "      <td>51.3672</td>\n",
       "      <td>52.3525</td>\n",
       "      <td>51.1417</td>\n",
       "      <td>48.5309</td>\n",
       "      <td>48.74</td>\n",
       "    </tr>\n",
       "  </tbody>\n",
       "</table>\n",
       "</div>"
      ],
      "text/plain": [
       "       Origin        1        2        3         4        5        6        7  \\\n",
       "HRED  46.8289  66.1616  68.5251  55.5454  118.7476  57.5757  51.3672  52.3525   \n",
       "\n",
       "            8        9     10  \n",
       "HRED  51.1417  48.5309  48.74  "
      ]
     },
     "execution_count": 77,
     "metadata": {},
     "output_type": "execute_result"
    }
   ],
   "source": [
    "loss, ppl = read_ppl(path)\n",
    "# ppl[4] = ppl[0] + 300\n",
    "data = pd.DataFrame.from_dict({model: ppl}, orient='index', \n",
    "                              columns=['Origin', '1', '2', '3', '4', '5', '6', '7', '8', '9', '10'])\n",
    "data"
   ]
  },
  {
   "cell_type": "code",
   "execution_count": 78,
   "metadata": {},
   "outputs": [
    {
     "name": "stdout",
     "output_type": "stream",
     "text": [
      "Whole Perbuturbation:\n",
      " [0.0, 19.3327, 21.6962, 8.7165, 71.9187, 10.7468, 4.5383, 5.5236, 4.3128, 1.702, 1.9111]\n",
      "Max Perturbation: 71.9187, 4\n",
      "Min Perturbation: 1.702, 9\n",
      "Mean Perturbation: 15.0399\n"
     ]
    },
    {
     "data": {
      "image/png": "[encoded data removed]",
      "text/plain": [
       "<Figure size 432x288 with 1 Axes>"
      ]
     },
     "metadata": {
      "needs_background": "light"
     },
     "output_type": "display_data"
    }
   ],
   "source": [
    "sns.barplot(data=data)\n",
    "plt.title(f'{model}')\n",
    "plt.savefig(f'./img/{dataset_name}-{model}-perturbation.png')\n",
    "\n",
    "# show the count of the perturbation\n",
    "count = np.array(ppl) - np.array([ppl[0]] * len(ppl))\n",
    "count = count.tolist()\n",
    "count = [round(i, 4) for i in count]\n",
    "print(f'Whole Perbuturbation:\\n {count}')\n",
    "print(f'Max Perturbation: {round(max(count[1:]), 4)}, {np.argmax(count[1:])+1}')\n",
    "print(f'Min Perturbation: {round(min(count[1:]), 4)}, {np.argmin(count[1:])+1}')\n",
    "print(f'Mean Perturbation: {round(np.mean(count[1:]), 4)}')"
   ]
  },
  {
   "cell_type": "markdown",
   "metadata": {},
   "source": [
    "### Dailydialog\n",
    "Seq2Seq\n",
    "\n",
    "Seq2Seq-MHA\n",
    "Whole Perbuturbation:\n",
    " [0.0, 15.8091, 21.7254, -6.5134, 69.357, 12.4842, 2.1211, 9.3529, -3.0175, -7.2258, -7.7631]\n",
    "Max Perturbation: 69.357, 4\n",
    "Min Perturbation: -7.7631, 10\n",
    "Mean Perturbation: 10.633\n",
    "\n",
    "HRED:\n",
    "\n",
    "WSeq:\n",
    "\n",
    "VHRED:\n",
    "\n",
    "DSHRED:\n",
    "Whole Perbuturbation:\n",
    " [0.0, 27.8725, 37.6236, 3.0022, 84.5578, 12.2294, 16.3333, 21.6096, 9.6054, 5.9065, 5.1542]\n",
    "Max Perturbation: 84.5578, 4\n",
    "Min Perturbation: 3.0022, 3\n",
    "Mean Perturbation: 22.3894\n",
    "    \n",
    "ReCoSa\n",
    "    \n",
    "HRAN\n",
    "\n",
    "DSHRED-WA\n",
    "Whole Perbuturbation:\n",
    " [0.0, 30.8531, 38.351, 5.1927, 73.8188, 18.9551, 20.9557, 27.8234, 12.4998, 10.5894, 7.9644]\n",
    "Max Perturbation: 73.8188, 4\n",
    "Min Perturbation: 5.1927, 3\n",
    "Mean Perturbation: 24.7003\n",
    "\n",
    "WSeq-WA\n",
    "\n",
    "ReCoSa-WA"
   ]
  },
  {
   "cell_type": "markdown",
   "metadata": {},
   "source": [
    "### EmpChat\n",
    "Seq2Seq\n",
    "Whole Perbuturbation:\n",
    " [0.0, 14.0162, 23.2781, 10.9458, 73.1184, 13.553, 3.7706, 4.3257, 4.7365, 2.652, 2.9049]\n",
    "Max Perturbation: 73.1184, 4\n",
    "Min Perturbation: 2.652, 9\n",
    "Mean Perturbation: 15.3301\n",
    "\n",
    "Seq2Seq-MHA\n",
    "\n",
    "HRED:\n",
    "Whole Perbuturbation:\n",
    " [0.0, 19.3327, 21.6962, 8.7165, 71.9187, 10.7468, 4.5383, 5.5236, 4.3128, 1.702, 1.9111]\n",
    "Max Perturbation: 71.9187, 4\n",
    "Min Perturbation: 1.702, 9\n",
    "Mean Perturbation: 15.0399\n",
    "\n",
    "WSeq:\n",
    "\n",
    "VHRED:\n",
    "\n",
    "DSHRED:\n",
    "    \n",
    "ReCoSa\n",
    "    \n",
    "HRAN\n",
    "Whole Perbuturbation:\n",
    " [0.0, 20.8905, 23.7996, 10.4145, 68.1211, 13.2406, 7.1619, 10.0035, 6.6166, 3.3192, 2.9016]\n",
    "Max Perturbation: 68.1211, 4\n",
    "Min Perturbation: 2.9016, 10\n",
    "Mean Perturbation: 16.6469\n",
    "\n",
    "DSHRED-WA\n",
    "\n",
    "WSeq-WA\n",
    "\n",
    "ReCoSa-WA"
   ]
  },
  {
   "cell_type": "markdown",
   "metadata": {},
   "source": [
    "#### PersonaChat\n",
    "Seq2Seq\n",
    "\n",
    "Seq2Seq-MHA\n",
    "\n",
    "HRED\n",
    "\n",
    "WSeq:\n",
    "\n",
    "VHRED:\n",
    "\n",
    "DSHRED:\n",
    "    \n",
    "ReCoSa\n",
    "    \n",
    "HRAN\n",
    "\n",
    "DSHRED-WA\n",
    "\n",
    "WSeq-WA\n",
    "\n",
    "ReCoSa-WA"
   ]
  },
  {
   "cell_type": "markdown",
   "metadata": {},
   "source": [
    "#### DSTC7\n",
    "Seq2Seq\n",
    "\n",
    "Seq2Seq-MHA\n",
    "\n",
    "HRED\n",
    "\n",
    "WSeq:\n",
    "\n",
    "VHRED:\n",
    "\n",
    "DSHRED:\n",
    "    \n",
    "ReCoSa\n",
    "    \n",
    "HRAN\n",
    "\n",
    "DSHRED-WA\n",
    "\n",
    "WSeq-WA\n",
    "\n",
    "ReCoSa-WA"
   ]
  },
  {
   "cell_type": "markdown",
   "metadata": {},
   "source": [
    "#### Ubuntu\n",
    "Seq2Seq\n",
    "\n",
    "Seq2Seq-MHA\n",
    "\n",
    "HRED\n",
    "\n",
    "WSeq:\n",
    "\n",
    "VHRED:\n",
    "\n",
    "DSHRED:\n",
    "    \n",
    "ReCoSa\n",
    "    \n",
    "HRAN\n",
    "\n",
    "DSHRED-WA\n",
    "\n",
    "WSeq-WA\n",
    "\n",
    "ReCoSa-WA"
   ]
  },
  {
   "cell_type": "code",
   "execution_count": null,
   "metadata": {},
   "outputs": [],
   "source": []
  }
 ],
 "metadata": {
  "kernelspec": {
   "display_name": "Python 3",
   "language": "python",
   "name": "python3"
  },
  "language_info": {
   "codemirror_mode": {
    "name": "ipython",
    "version": 3
   },
   "file_extension": ".py",
   "mimetype": "text/x-python",
   "name": "python",
   "nbconvert_exporter": "python",
   "pygments_lexer": "ipython3",
   "version": "3.6.5"
  }
 },
 "nbformat": 4,
 "nbformat_minor": 4
}
