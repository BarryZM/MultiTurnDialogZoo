{
 "cells": [
  {
   "cell_type": "markdown",
   "metadata": {},
   "source": [
    "## Analyse the performance curve"
   ]
  },
  {
   "cell_type": "code",
   "execution_count": 1,
   "metadata": {},
   "outputs": [],
   "source": [
    "import matplotlib.pyplot as plt\n",
    "import numpy as np\n",
    "import ipdb\n",
    "import re\n",
    "import seaborn as sns\n",
    "import pandas as pd\n",
    "from pprint import pprint\n",
    "%matplotlib inline"
   ]
  },
  {
   "cell_type": "code",
   "execution_count": null,
   "metadata": {},
   "outputs": [],
   "source": [
    "models = ['HRED', 'MReCoSa', 'MTGCN', 'GatedGCN']    # Add GATRNN\n",
    "dataset_name = 'dailydialog'\n",
    "paths = [f'./processed/{dataset_name}/{i}/conclusion.txt' for i in models]\n",
    "size = 30"
   ]
  },
  {
   "cell_type": "code",
   "execution_count": null,
   "metadata": {},
   "outputs": [],
   "source": [
    "def read_file(path, size=30):\n",
    "    with open(path) as f:\n",
    "        bleu1, bleu2, bleu3, bleu4, rouge, dist1, dist2 = [], [], [], [], [], [], []\n",
    "        EA, VX, GM = [], [], []\n",
    "        for line in f.readlines():\n",
    "            line = line.strip()\n",
    "            if 'BLEU-1' in line:\n",
    "                bleu1.append(float(line.replace('BLEU-1: ', '')))\n",
    "            elif 'BLEU-2' in line:\n",
    "                bleu2.append(float(line.replace('BLEU-2: ', '')))\n",
    "            elif 'BLEU-3' in line:\n",
    "                bleu3.append(float(line.replace('BLEU-3: ', '')))\n",
    "            elif 'BLEU-4' in line:\n",
    "                bleu4.append(float(line.replace('BLEU-4: ', '')))\n",
    "            elif 'ROUGE' in line:\n",
    "                rouge.append(float(line.replace('ROUGE: ', '')))\n",
    "            elif 'Distinct' in line:\n",
    "                distinct1, distinct2 = line.split(';')\n",
    "                dist1.append(float(distinct1.replace('Distinct-1: ', '').strip()))\n",
    "                dist2.append(float(distinct2.replace('Distinct-2: ', '').strip()))\n",
    "            elif 'EA' in line:\n",
    "                EA.append(float(line.replace('EA: ', '')))\n",
    "            elif 'VX' in line:\n",
    "                VX.append(float(line.replace('VX: ', '')))\n",
    "            # elif 'GM' in line:\n",
    "            #     GM.append(float(line.replace('GM: ', '')))\n",
    "    assert len(bleu1) == size, f'{len(bleu1)} -- {size}'\n",
    "    assert len(bleu2) == size, f'{len(bleu2)} -- {size}'\n",
    "    assert len(bleu3) == size, f'{len(bleu3)} -- {size}'\n",
    "    assert len(bleu4) == size, f'{len(bleu4)} -- {size}'\n",
    "    assert len(rouge) == size, f'{len(rouge)} -- {size}'\n",
    "    assert len(dist1) == size, f'{len(dist1)} -- {size}'\n",
    "    assert len(dist2) == size, f'{len(dist2)} -- {size}'\n",
    "    assert len(EA) == size, f'{len(EA)} -- {size}'\n",
    "    assert len(VX) == size, f'{len(VX)} -- {size}'\n",
    "    # assert len(GM) == size, f'{len(GM)} -- {size}'\n",
    "    return (bleu1, bleu2, bleu3, bleu4, rouge, dist1, dist2, EA, VX)"
   ]
  },
  {
   "cell_type": "code",
   "execution_count": null,
   "metadata": {},
   "outputs": [],
   "source": [
    "def draw_curve(ax1, ax2, ax3, ax4, ax5, ax6, ax7, ax8, ax9,\n",
    "               bleu1, bleu2, bleu3, bleu4, rouge, dist1, dist2, ea, vx, m):\n",
    "    x = np.arange(1, size + 1)\n",
    "    \n",
    "    ax1.plot(x, bleu1, label=m)\n",
    "    ax1.legend()\n",
    "    ax1.set_title('BLEU-1')\n",
    "    \n",
    "    ax2.plot(x, bleu2, label=m)\n",
    "    ax2.legend()\n",
    "    ax2.set_title('BLEU-2')\n",
    "    \n",
    "    ax3.plot(x, bleu3, label=m)\n",
    "    ax3.legend()\n",
    "    ax3.set_title('BLEU-3')\n",
    "    \n",
    "    ax4.plot(x, bleu4, label=m)\n",
    "    ax4.legend()\n",
    "    ax4.set_title('BLEU-4')\n",
    "    \n",
    "    ax5.plot(x, rouge, label=m)\n",
    "    ax5.legend()\n",
    "    ax5.set_title('ROUGE')\n",
    "    \n",
    "    ax6.plot(x, dist1, label=m)\n",
    "    ax6.legend()\n",
    "    ax6.set_title('Distinct-1')\n",
    "    \n",
    "    ax7.plot(x, dist2, label=m)\n",
    "    ax7.legend()\n",
    "    ax7.set_title('Distinct-2')\n",
    "    \n",
    "    ax8.plot(x, ea, label=m)\n",
    "    ax8.legend()\n",
    "    ax8.set_title('Embedding Average')\n",
    "    \n",
    "    ax9.plot(x, vx, label=m)\n",
    "    ax9.legend()\n",
    "    ax9.set_title('Vector Extrema')"
   ]
  },
  {
   "cell_type": "code",
   "execution_count": null,
   "metadata": {},
   "outputs": [],
   "source": [
    "def meta_data(bar, data):\n",
    "    try:\n",
    "        print(f'{bar}: Max data {np.max(data)}, epoch: {1 + np.argmax(data)}')\n",
    "    except:\n",
    "        return "
   ]
  },
  {
   "cell_type": "code",
   "execution_count": null,
   "metadata": {},
   "outputs": [],
   "source": [
    "dataset = []\n",
    "for m, path in zip(models, paths):\n",
    "    print(f'========== {m} : {path} ==========')\n",
    "    data = read_file(path, size=size)\n",
    "    if data:\n",
    "        dataset.append(data)\n",
    "        meta_data('BLEU-1', data[0])\n",
    "        meta_data('BLEU-2', data[1])\n",
    "        meta_data('BLEU-3', data[2])\n",
    "        meta_data('BLEU-4', data[3])\n",
    "        meta_data('ROUGE',  data[4])\n",
    "        meta_data('Dist-1', data[5])\n",
    "        meta_data('Dist-2', data[6])\n",
    "        meta_data('Embedding Average', data[7])\n",
    "        meta_data('Vector Extrema', data[8])\n",
    "        # meta_data('Greedy Matching', data[9])"
   ]
  },
  {
   "cell_type": "code",
   "execution_count": null,
   "metadata": {},
   "outputs": [],
   "source": [
    "plt.figure(figsize=(10, 20))\n",
    "sub = [plt.subplot(5, 2, 1), plt.subplot(5, 2, 2), plt.subplot(5, 2, 3),\n",
    "       plt.subplot(5, 2, 4), plt.subplot(5, 2, 5), plt.subplot(5, 2, 6), \n",
    "       plt.subplot(5, 2, 7), plt.subplot(5, 2, 8), plt.subplot(5, 2, 9),]\n",
    "\n",
    "for d, m in zip(dataset, models):\n",
    "    draw_curve(*sub, *d, m)\n",
    "    \n",
    "plt.savefig(f'./img/{dataset_name}.png')"
   ]
  },
  {
   "cell_type": "markdown",
   "metadata": {},
   "source": [
    "## Show the PPL Perturbation\n",
    "### Dailydialog\n",
    "#### 1. GatedGCN\n",
    "* Whole Perbuturbation:\n",
    "    ```python\n",
    "    [0.0, 1556.6158, 2113.8812, 1169.3035, 0.0, \n",
    "     3817.2882, 2791.7137, 4396.2242, 2241.7539, 1578.3198, 972.8699]\n",
    "    ```\n",
    "* Max Perturbation: __4396.2242, 7__\n",
    "* Min Perturbation: __0.0, 4__\n",
    "* Mean Perturbation: __2063.797__\n",
    "\n",
    "#### 2. MTGCN\n",
    "* Whole Perbuturbation:\n",
    "    ```python\n",
    "    [0.0, 1240.4204, 1756.3135, 708.7472, 0.0, \n",
    "     2495.2904, 1709.4872, 3197.3944, 1786.198, 1431.0741, 1057.5664]\n",
    "    ```\n",
    "* Max Perturbation: __3197.3944, 7__\n",
    "* Min Perturbation: __0.0, 4__\n",
    "* Mean Perturbation: __1538.2492__\n",
    "\n",
    "#### 3. HRED\n",
    "* Whole Perbuturbation:\n",
    "    ```python\n",
    "    [0.0, 1949.0855, 2810.9068, 544.828, 0.0, \n",
    "     1411.7792, 1942.0241, 2496.287, 885.8559, 608.5841, 498.6002]\n",
    "    ```\n",
    "* Max Perturbation: __2810.9068, 2__\n",
    "* Min Perturbation: __0.0, 4__\n",
    "* Mean Perturbation: __1314.7951__\n",
    "\n",
    "#### 4. WSeq\n",
    "* Whole Perbuturbation:\n",
    "    ```python\n",
    "    [0.0, 1652.5103, 2739.4322, 486.8143, 0.0, \n",
    "     563.9563, 2410.9512, 3021.7119, 974.4388, 440.752, 374.1026]\n",
    "    ```\n",
    "* Max Perturbation: __3021.7119, 7__\n",
    "* Min Perturbation: __0.0, 4__\n",
    "* Mean Perturbation: __1266.4670__\n",
    "\n",
    "#### 5. ReCoSa\n",
    "* Whole Perbuturbation:\n",
    "    ```python\n",
    "    [0.0, 1637.6661, 1605.3022, 42.8426, 0.0, \n",
    "     -103.1716, 642.0702, 785.3866, 360.5875, 474.3139, 393.9966]\n",
    "    ```\n",
    "* Max Perturbation: __1637.6661, 1__\n",
    "* Min Perturbation: __-103.1716, 5__\n",
    "* Mean Perturbation: __583.8994__\n",
    "\n",
    "### Ubuntu\n",
    "#### 1. GatedGCN\n",
    "* Whole Perbuturbation:\n",
    "    ```python\n",
    "    [0.0, 1053.1195, 1741.5995, 861.9825, 0.0, \n",
    "     3416.9438, 1820.1046, 3469.8428, 1243.7793, 969.5058, 836.4556]\n",
    "    ```\n",
    "* Max Perturbation: __3469.8428, 7__\n",
    "* Min Perturbation: __0.0, 4__\n",
    "* Mean Perturbation: __1541.3333__\n",
    "\n",
    "#### 2. HRED\n",
    "* Whole Perbuturbation:\n",
    "    ```python\n",
    "    [0.0, 1949.0855, 2810.9068, 544.828, 0.0, \n",
    "     1411.7792, 1942.0241, 2496.287, 885.8559, 608.5841, 498.6002]\n",
    "    ```\n",
    "* Max Perturbation: __2810.9068, 2__\n",
    "* Min Perturbation: __0.0, 4__\n",
    "* Mean Perturbation: __1314.7951__\n",
    "\n",
    "#### 3. WSeq\n",
    "* Whole Perbuturbation:\n",
    "    ```python\n",
    "    [0.0, 1652.5103, 2739.4322, 486.8143, 0.0, \n",
    "     563.9563, 2410.9512, 3021.7119, 974.4388, 440.752, 374.1026]\n",
    "    ```\n",
    "* Max Perturbation: __3021.7119, 7__\n",
    "* Min Perturbation: __0.0, 4__\n",
    "* Mean Perturbation: __1266.4670__\n",
    "\n",
    "#### 4. ReCoSa\n",
    "* Whole Perbuturbation:\n",
    "    ```python\n",
    "    [0.0, 2984.8354, 2976.7089, 155.605, 0.0, \n",
    "     -213.2971, 960.64, 1390.3535, 830.0953, 687.8202, 553.1075]\n",
    "    ```\n",
    "* Max Perturbation: __2984.8354, 1__\n",
    "* Min Perturbation: __-213.2971, 5__\n",
    "* Mean Perturbation: __1032.5869__"
   ]
  },
  {
   "cell_type": "code",
   "execution_count": 18,
   "metadata": {},
   "outputs": [],
   "source": [
    "models = ['HRED', 'DSHRED', 'WSeq', 'MReCoSa', \n",
    "          'MTGCN', 'MTGAT', 'GatedGCN', 'VHRED']    # Add GATRNN\n",
    "dataset_name = 'dailydialog'\n",
    "paths = [f'./processed/{dataset_name}/{i}/pertub-ppl.txt' for i in models]\n",
    "\n",
    "model = 'VHRED'\n",
    "path = paths[models.index(model)]"
   ]
  },
  {
   "cell_type": "code",
   "execution_count": 19,
   "metadata": {},
   "outputs": [],
   "source": [
    "def read_ppl(path):\n",
    "    real = re.compile(r'.*loss: (\\w+\\.\\w+), PPL: (\\w+\\.\\w+).*')\n",
    "    with open(path) as f:\n",
    "        loss, ppl = [], []\n",
    "        for line in f.readlines():\n",
    "            line = line.strip()\n",
    "            loss_, ppl_ = real.findall(line)[0]\n",
    "            loss_, ppl_ = float(loss_), float(ppl_)\n",
    "            loss.append(loss_)\n",
    "            ppl.append(ppl_)\n",
    "    return loss, ppl"
   ]
  },
  {
   "cell_type": "code",
   "execution_count": 20,
   "metadata": {},
   "outputs": [
    {
     "ename": "ValueError",
     "evalue": "11 columns passed, passed data had 10 columns",
     "output_type": "error",
     "traceback": [
      "\u001b[0;31m---------------------------------------------------------------------------\u001b[0m",
      "\u001b[0;31mAssertionError\u001b[0m                            Traceback (most recent call last)",
      "\u001b[0;32m~/data/miniconda3/lib/python3.6/site-packages/pandas/core/internals/construction.py\u001b[0m in \u001b[0;36m_list_to_arrays\u001b[0;34m(data, columns, coerce_float, dtype)\u001b[0m\n\u001b[1;32m    499\u001b[0m         result = _convert_object_array(\n\u001b[0;32m--> 500\u001b[0;31m             \u001b[0mcontent\u001b[0m\u001b[0;34m,\u001b[0m \u001b[0mcolumns\u001b[0m\u001b[0;34m,\u001b[0m \u001b[0mdtype\u001b[0m\u001b[0;34m=\u001b[0m\u001b[0mdtype\u001b[0m\u001b[0;34m,\u001b[0m \u001b[0mcoerce_float\u001b[0m\u001b[0;34m=\u001b[0m\u001b[0mcoerce_float\u001b[0m\u001b[0;34m\u001b[0m\u001b[0m\n\u001b[0m\u001b[1;32m    501\u001b[0m         )\n",
      "\u001b[0;32m~/data/miniconda3/lib/python3.6/site-packages/pandas/core/internals/construction.py\u001b[0m in \u001b[0;36m_convert_object_array\u001b[0;34m(content, columns, coerce_float, dtype)\u001b[0m\n\u001b[1;32m    582\u001b[0m                 \u001b[0;34m\"{col:d} columns passed, passed data had \"\u001b[0m\u001b[0;34m\u001b[0m\u001b[0m\n\u001b[0;32m--> 583\u001b[0;31m                 \u001b[0;34m\"{con} columns\"\u001b[0m\u001b[0;34m.\u001b[0m\u001b[0mformat\u001b[0m\u001b[0;34m(\u001b[0m\u001b[0mcol\u001b[0m\u001b[0;34m=\u001b[0m\u001b[0mlen\u001b[0m\u001b[0;34m(\u001b[0m\u001b[0mcolumns\u001b[0m\u001b[0;34m)\u001b[0m\u001b[0;34m,\u001b[0m \u001b[0mcon\u001b[0m\u001b[0;34m=\u001b[0m\u001b[0mlen\u001b[0m\u001b[0;34m(\u001b[0m\u001b[0mcontent\u001b[0m\u001b[0;34m)\u001b[0m\u001b[0;34m)\u001b[0m\u001b[0;34m\u001b[0m\u001b[0m\n\u001b[0m\u001b[1;32m    584\u001b[0m             )\n",
      "\u001b[0;31mAssertionError\u001b[0m: 11 columns passed, passed data had 10 columns",
      "\nThe above exception was the direct cause of the following exception:\n",
      "\u001b[0;31mValueError\u001b[0m                                Traceback (most recent call last)",
      "\u001b[0;32m<ipython-input-20-2f2408f14d0e>\u001b[0m in \u001b[0;36m<module>\u001b[0;34m\u001b[0m\n\u001b[1;32m      2\u001b[0m \u001b[0;31m# ppl[4] = ppl[0] + 300\u001b[0m\u001b[0;34m\u001b[0m\u001b[0;34m\u001b[0m\u001b[0m\n\u001b[1;32m      3\u001b[0m data = pd.DataFrame.from_dict({model: ppl}, orient='index', \n\u001b[0;32m----> 4\u001b[0;31m                               columns=['Origin', '1', '2', '3', '4', '5', '6', '7', '8', '9', '10'])\n\u001b[0m\u001b[1;32m      5\u001b[0m \u001b[0mdata\u001b[0m\u001b[0;34m\u001b[0m\u001b[0m\n",
      "\u001b[0;32m~/data/miniconda3/lib/python3.6/site-packages/pandas/core/frame.py\u001b[0m in \u001b[0;36mfrom_dict\u001b[0;34m(cls, data, orient, dtype, columns)\u001b[0m\n\u001b[1;32m   1203\u001b[0m             \u001b[0;32mraise\u001b[0m \u001b[0mValueError\u001b[0m\u001b[0;34m(\u001b[0m\u001b[0;34m\"only recognize index or columns for orient\"\u001b[0m\u001b[0;34m)\u001b[0m\u001b[0;34m\u001b[0m\u001b[0m\n\u001b[1;32m   1204\u001b[0m \u001b[0;34m\u001b[0m\u001b[0m\n\u001b[0;32m-> 1205\u001b[0;31m         \u001b[0;32mreturn\u001b[0m \u001b[0mcls\u001b[0m\u001b[0;34m(\u001b[0m\u001b[0mdata\u001b[0m\u001b[0;34m,\u001b[0m \u001b[0mindex\u001b[0m\u001b[0;34m=\u001b[0m\u001b[0mindex\u001b[0m\u001b[0;34m,\u001b[0m \u001b[0mcolumns\u001b[0m\u001b[0;34m=\u001b[0m\u001b[0mcolumns\u001b[0m\u001b[0;34m,\u001b[0m \u001b[0mdtype\u001b[0m\u001b[0;34m=\u001b[0m\u001b[0mdtype\u001b[0m\u001b[0;34m)\u001b[0m\u001b[0;34m\u001b[0m\u001b[0m\n\u001b[0m\u001b[1;32m   1206\u001b[0m \u001b[0;34m\u001b[0m\u001b[0m\n\u001b[1;32m   1207\u001b[0m     \u001b[0;32mdef\u001b[0m \u001b[0mto_numpy\u001b[0m\u001b[0;34m(\u001b[0m\u001b[0mself\u001b[0m\u001b[0;34m,\u001b[0m \u001b[0mdtype\u001b[0m\u001b[0;34m=\u001b[0m\u001b[0;32mNone\u001b[0m\u001b[0;34m,\u001b[0m \u001b[0mcopy\u001b[0m\u001b[0;34m=\u001b[0m\u001b[0;32mFalse\u001b[0m\u001b[0;34m)\u001b[0m\u001b[0;34m:\u001b[0m\u001b[0;34m\u001b[0m\u001b[0m\n",
      "\u001b[0;32m~/data/miniconda3/lib/python3.6/site-packages/pandas/core/frame.py\u001b[0m in \u001b[0;36m__init__\u001b[0;34m(self, data, index, columns, dtype, copy)\u001b[0m\n\u001b[1;32m    448\u001b[0m                     \u001b[0;32mif\u001b[0m \u001b[0mis_named_tuple\u001b[0m\u001b[0;34m(\u001b[0m\u001b[0mdata\u001b[0m\u001b[0;34m[\u001b[0m\u001b[0;36m0\u001b[0m\u001b[0;34m]\u001b[0m\u001b[0;34m)\u001b[0m \u001b[0;32mand\u001b[0m \u001b[0mcolumns\u001b[0m \u001b[0;32mis\u001b[0m \u001b[0;32mNone\u001b[0m\u001b[0;34m:\u001b[0m\u001b[0;34m\u001b[0m\u001b[0m\n\u001b[1;32m    449\u001b[0m                         \u001b[0mcolumns\u001b[0m \u001b[0;34m=\u001b[0m \u001b[0mdata\u001b[0m\u001b[0;34m[\u001b[0m\u001b[0;36m0\u001b[0m\u001b[0;34m]\u001b[0m\u001b[0;34m.\u001b[0m\u001b[0m_fields\u001b[0m\u001b[0;34m\u001b[0m\u001b[0m\n\u001b[0;32m--> 450\u001b[0;31m                     \u001b[0marrays\u001b[0m\u001b[0;34m,\u001b[0m \u001b[0mcolumns\u001b[0m \u001b[0;34m=\u001b[0m \u001b[0mto_arrays\u001b[0m\u001b[0;34m(\u001b[0m\u001b[0mdata\u001b[0m\u001b[0;34m,\u001b[0m \u001b[0mcolumns\u001b[0m\u001b[0;34m,\u001b[0m \u001b[0mdtype\u001b[0m\u001b[0;34m=\u001b[0m\u001b[0mdtype\u001b[0m\u001b[0;34m)\u001b[0m\u001b[0;34m\u001b[0m\u001b[0m\n\u001b[0m\u001b[1;32m    451\u001b[0m                     \u001b[0mcolumns\u001b[0m \u001b[0;34m=\u001b[0m \u001b[0mensure_index\u001b[0m\u001b[0;34m(\u001b[0m\u001b[0mcolumns\u001b[0m\u001b[0;34m)\u001b[0m\u001b[0;34m\u001b[0m\u001b[0m\n\u001b[1;32m    452\u001b[0m \u001b[0;34m\u001b[0m\u001b[0m\n",
      "\u001b[0;32m~/data/miniconda3/lib/python3.6/site-packages/pandas/core/internals/construction.py\u001b[0m in \u001b[0;36mto_arrays\u001b[0;34m(data, columns, coerce_float, dtype)\u001b[0m\n\u001b[1;32m    462\u001b[0m         \u001b[0;32mreturn\u001b[0m \u001b[0;34m[\u001b[0m\u001b[0;34m]\u001b[0m\u001b[0;34m,\u001b[0m \u001b[0;34m[\u001b[0m\u001b[0;34m]\u001b[0m  \u001b[0;31m# columns if columns is not None else []\u001b[0m\u001b[0;34m\u001b[0m\u001b[0m\n\u001b[1;32m    463\u001b[0m     \u001b[0;32mif\u001b[0m \u001b[0misinstance\u001b[0m\u001b[0;34m(\u001b[0m\u001b[0mdata\u001b[0m\u001b[0;34m[\u001b[0m\u001b[0;36m0\u001b[0m\u001b[0;34m]\u001b[0m\u001b[0;34m,\u001b[0m \u001b[0;34m(\u001b[0m\u001b[0mlist\u001b[0m\u001b[0;34m,\u001b[0m \u001b[0mtuple\u001b[0m\u001b[0;34m)\u001b[0m\u001b[0;34m)\u001b[0m\u001b[0;34m:\u001b[0m\u001b[0;34m\u001b[0m\u001b[0m\n\u001b[0;32m--> 464\u001b[0;31m         \u001b[0;32mreturn\u001b[0m \u001b[0m_list_to_arrays\u001b[0m\u001b[0;34m(\u001b[0m\u001b[0mdata\u001b[0m\u001b[0;34m,\u001b[0m \u001b[0mcolumns\u001b[0m\u001b[0;34m,\u001b[0m \u001b[0mcoerce_float\u001b[0m\u001b[0;34m=\u001b[0m\u001b[0mcoerce_float\u001b[0m\u001b[0;34m,\u001b[0m \u001b[0mdtype\u001b[0m\u001b[0;34m=\u001b[0m\u001b[0mdtype\u001b[0m\u001b[0;34m)\u001b[0m\u001b[0;34m\u001b[0m\u001b[0m\n\u001b[0m\u001b[1;32m    465\u001b[0m     \u001b[0;32melif\u001b[0m \u001b[0misinstance\u001b[0m\u001b[0;34m(\u001b[0m\u001b[0mdata\u001b[0m\u001b[0;34m[\u001b[0m\u001b[0;36m0\u001b[0m\u001b[0;34m]\u001b[0m\u001b[0;34m,\u001b[0m \u001b[0mabc\u001b[0m\u001b[0;34m.\u001b[0m\u001b[0mMapping\u001b[0m\u001b[0;34m)\u001b[0m\u001b[0;34m:\u001b[0m\u001b[0;34m\u001b[0m\u001b[0m\n\u001b[1;32m    466\u001b[0m         return _list_of_dict_to_arrays(\n",
      "\u001b[0;32m~/data/miniconda3/lib/python3.6/site-packages/pandas/core/internals/construction.py\u001b[0m in \u001b[0;36m_list_to_arrays\u001b[0;34m(data, columns, coerce_float, dtype)\u001b[0m\n\u001b[1;32m    501\u001b[0m         )\n\u001b[1;32m    502\u001b[0m     \u001b[0;32mexcept\u001b[0m \u001b[0mAssertionError\u001b[0m \u001b[0;32mas\u001b[0m \u001b[0me\u001b[0m\u001b[0;34m:\u001b[0m\u001b[0;34m\u001b[0m\u001b[0m\n\u001b[0;32m--> 503\u001b[0;31m         \u001b[0;32mraise\u001b[0m \u001b[0mValueError\u001b[0m\u001b[0;34m(\u001b[0m\u001b[0me\u001b[0m\u001b[0;34m)\u001b[0m \u001b[0;32mfrom\u001b[0m \u001b[0me\u001b[0m\u001b[0;34m\u001b[0m\u001b[0m\n\u001b[0m\u001b[1;32m    504\u001b[0m     \u001b[0;32mreturn\u001b[0m \u001b[0mresult\u001b[0m\u001b[0;34m\u001b[0m\u001b[0m\n\u001b[1;32m    505\u001b[0m \u001b[0;34m\u001b[0m\u001b[0m\n",
      "\u001b[0;31mValueError\u001b[0m: 11 columns passed, passed data had 10 columns"
     ]
    }
   ],
   "source": [
    "loss, ppl = read_ppl(path)\n",
    "# ppl[4] = ppl[0] + 300\n",
    "data = pd.DataFrame.from_dict({model: ppl}, orient='index', \n",
    "                              columns=['Origin', '1', '2', '3', '4', '5', '6', '7', '8', '9', '10'])\n",
    "data"
   ]
  },
  {
   "cell_type": "code",
   "execution_count": 17,
   "metadata": {},
   "outputs": [
    {
     "name": "stdout",
     "output_type": "stream",
     "text": [
      "Whole Perbuturbation:\n",
      " [0.0, 27.3273, 32.7742, 0.9366, 64.3635, -0.0102, 7.9416, 10.7191, 4.6145, 3.7657, 2.0761]\n",
      "Max Perturbation: 64.3635, 4\n",
      "Min Perturbation: -0.0102, 5\n",
      "Mean Perturbation: 15.4508\n"
     ]
    },
    {
     "data": {
      "image/png": "[encoded data removed]",
      "text/plain": [
       "<Figure size 432x288 with 1 Axes>"
      ]
     },
     "metadata": {
      "needs_background": "light"
     },
     "output_type": "display_data"
    }
   ],
   "source": [
    "sns.barplot(data=data)\n",
    "plt.title(f'{model}')\n",
    "plt.savefig(f'./img/{dataset_name}-{model}-perturbation.png')\n",
    "\n",
    "# show the count of the perturbation\n",
    "count = np.array(ppl) - np.array([ppl[0]] * len(ppl))\n",
    "count = count.tolist()\n",
    "count = [round(i, 4) for i in count]\n",
    "print(f'Whole Perbuturbation:\\n {count}')\n",
    "print(f'Max Perturbation: {round(max(count[1:]), 4)}, {np.argmax(count[1:])+1}')\n",
    "print(f'Min Perturbation: {round(min(count[1:]), 4)}, {np.argmin(count[1:])+1}')\n",
    "print(f'Mean Perturbation: {round(np.mean(count[1:]), 4)}')"
   ]
  },
  {
   "cell_type": "markdown",
   "metadata": {},
   "source": [
    "## Dailydialog\n",
    "HRED:\n",
    "Whole Perbuturbation:\n",
    " [0.0, 559.6098, 738.1622, 170.7288, 1725.5417, 333.058, 455.7412, 501.5853, 142.9033, 140.0869, 63.2785]\n",
    "Max Perturbation: 1725.5417, 4\n",
    "Min Perturbation: 63.2785, 10\n",
    "Mean Perturbation: 483.0696\n",
    "\n",
    "DSHRED:\n",
    "Whole Perbuturbation:\n",
    " [0.0, 1052.6575, 1267.5407, 683.13, 3069.3293, 424.2916, 1228.5403, 1258.433, 566.102, 410.305, 226.3174]\n",
    "Max Perturbation: 3069.3293, 4\n",
    "Min Perturbation: 226.3174, 10\n",
    "Mean Perturbation: 1018.6647\n",
    "    \n",
    "WSeq\n",
    "Whole Perbuturbation:\n",
    " [0.0, 487.9667, 751.2304, 204.0157, 1886.0356, 316.1644, 339.6211, 375.1134, 207.6258, 199.8441, 120.3054]\n",
    "Max Perturbation: 1886.0356, 4\n",
    "Min Perturbation: 120.3054, 10\n",
    "Mean Perturbation: 488.7923\n",
    "    \n",
    "ReCoSa\n",
    "Whole Perbuturbation:\n",
    " [0.0, 659.3595, 707.3651, -15.4584, 1816.9177, 128.7965, 275.4559, 289.4481, 167.9557, 47.1525, 60.235]\n",
    "Max Perturbation: 1816.9177, 4\n",
    "Min Perturbation: -15.4584, 3\n",
    "Mean Perturbation: 413.7228\n",
    "    \n",
    "MTGCN\n",
    "Whole Perbuturbation:\n",
    " [0.0, 533.4615, 895.0676, 747.484, 1829.8334, 3195.8747, 903.8249, 1305.3871, 583.7374, 500.0753, 317.8779]\n",
    "Max Perturbation: 3195.8747, 5\n",
    "Min Perturbation: 317.8779, 10\n",
    "Mean Perturbation: 1081.2624\n",
    "    \n",
    "GatedGCN\n",
    "Whole Perbuturbation:\n",
    " [0.0, 1070.5176, 1396.5394, 938.4802, 2919.1967, 2873.946, 1898.6069, 2566.7229, 1505.8337, 895.0806, 650.01]\n",
    "Max Perturbation: 2919.1967, 4\n",
    "Min Perturbation: 650.01, 10\n",
    "Mean Perturbation: 1671.4934"
   ]
  },
  {
   "cell_type": "markdown",
   "metadata": {},
   "source": [
    "## Analyze the dataset"
   ]
  },
  {
   "cell_type": "code",
   "execution_count": null,
   "metadata": {},
   "outputs": [],
   "source": [
    "\n"
   ]
  }
 ],
 "metadata": {
  "kernelspec": {
   "display_name": "Python 3",
   "language": "python",
   "name": "python3"
  },
  "language_info": {
   "codemirror_mode": {
    "name": "ipython",
    "version": 3
   },
   "file_extension": ".py",
   "mimetype": "text/x-python",
   "name": "python",
   "nbconvert_exporter": "python",
   "pygments_lexer": "ipython3",
   "version": "3.6.5"
  }
 },
 "nbformat": 4,
 "nbformat_minor": 4
}
